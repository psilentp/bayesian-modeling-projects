{
 "cells": [
  {
   "cell_type": "code",
   "execution_count": 1,
   "metadata": {},
   "outputs": [],
   "source": [
    "import arviz as az\n",
    "import matplotlib.pyplot as plt\n",
    "import numpy as np\n",
    "import pandas as pd\n",
    "import pymc3 as pm\n",
    "import theano.tensor as tt\n",
    "import warnings\n",
    "\n",
    "from scipy import stats\n",
    "from scipy.stats import zscore\n",
    "from itertools import product\n",
    "\n",
    "import seaborn as sns"
   ]
  },
  {
   "cell_type": "code",
   "execution_count": 2,
   "metadata": {},
   "outputs": [],
   "source": [
    "_BASE_URL = \"https://raw.githubusercontent.com/rmcelreath/rethinking/master/data\"\n",
    "MILK_DATASET_PATH = f\"{_BASE_URL}/milk.csv\"\n",
    "\n",
    "milk_data = pd.read_csv(MILK_DATASET_PATH, sep=\";\")\n",
    "milk_data[\"log_mass\"] = np.log(milk_data[\"mass\"])\n",
    "milk_data[\"neocortex.prop\"] = milk_data[\"neocortex.perc\"] / 100"
   ]
  },
  {
   "cell_type": "code",
   "execution_count": 3,
   "metadata": {},
   "outputs": [],
   "source": [
    "milk_data[[\"kkals_z\", \"neocortex_prop_z\", \"log_mass_z\"]] = milk_data[\n",
    "    [\"kcal.per.g\", \"neocortex.prop\", \"log_mass\"]\n",
    "].apply(zscore, nan_policy=\"omit\")"
   ]
  },
  {
   "cell_type": "code",
   "execution_count": 4,
   "metadata": {},
   "outputs": [],
   "source": [
    "milk_data_complete = milk_data.dropna()"
   ]
  },
  {
   "cell_type": "code",
   "execution_count": 5,
   "metadata": {},
   "outputs": [],
   "source": [
    "# milk_data_ = milk_data_complete\n",
    "milk_data_ = milk_data"
   ]
  },
  {
   "cell_type": "code",
   "execution_count": 6,
   "metadata": {},
   "outputs": [
    {
     "name": "stderr",
     "output_type": "stream",
     "text": [
      "/home/worker/.local/share/virtualenvs/worker-Q7nhheP5/lib/python3.7/site-packages/pymc3/model.py:1430: ImputationWarning: Data in B contains missing values and will be automatically imputed from the sampling distribution.\n",
      "  warnings.warn(impute_message, ImputationWarning)\n"
     ]
    }
   ],
   "source": [
    "with pm.Model() as model:\n",
    "    sigma = pm.Exponential(\"sigma\", 1)\n",
    "    a = pm.Normal(\"a\", 0, 0.5)\n",
    "    bB = pm.Normal(\"bA\", 0, 0.5)\n",
    "    bM = pm.Normal(\"bM\", 0, 0.5)\n",
    "    nu = pm.Normal(\"nu\", 0, 0.5)\n",
    "    sigma_B = pm.Exponential(\"sigma_B\", 5)\n",
    "    B = pm.Normal(\"B\", nu, sigma_B, observed=milk_data_[\"neocortex_prop_z\"])\n",
    "    mu = pm.Deterministic(\"mu\", a + bM * milk_data_[\"log_mass_z\"] + bB * B)\n",
    "    K = pm.Normal(\"K\", mu, sigma, observed=milk_data_[\"kkals_z\"].values)"
   ]
  },
  {
   "cell_type": "code",
   "execution_count": 7,
   "metadata": {},
   "outputs": [
    {
     "data": {
      "text/latex": [
       "$$\n",
       "            \\begin{array}{rcl}\n",
       "            \\text{a} &\\sim & \\text{Normal}(\\mathit{mu}=0.0,~\\mathit{sigma}=0.5)\\\\\\text{bA} &\\sim & \\text{Normal}(\\mathit{mu}=0.0,~\\mathit{sigma}=0.5)\\\\\\text{bM} &\\sim & \\text{Normal}(\\mathit{mu}=0.0,~\\mathit{sigma}=0.5)\\\\\\text{nu} &\\sim & \\text{Normal}(\\mathit{mu}=0.0,~\\mathit{sigma}=0.5)\\\\\\text{sigma} &\\sim & \\text{Exponential}(\\mathit{lam}=1.0)\\\\\\text{sigma_B} &\\sim & \\text{Exponential}(\\mathit{lam}=5.0)\\\\\\text{mu} &\\sim & \\text{Deterministic}(\\text{a},~\\text{bM},~\\text{Constant},~\\text{bA},~\\text{Constant},~\\text{B_missing},~\\text{Constant})\\\\\\text{B} &\\sim & \\text{Normal}(\\mathit{mu}=\\text{nu},~\\mathit{sigma}=f(\\text{sigma_B}))\\\\\\text{K} &\\sim & \\text{Normal}(\\mathit{mu}=\\text{mu},~\\mathit{sigma}=f(\\text{sigma}))\n",
       "            \\end{array}\n",
       "            $$"
      ],
      "text/plain": [
       "<pymc3.model.Model at 0x7f3ec6f7ef10>"
      ]
     },
     "execution_count": 7,
     "metadata": {},
     "output_type": "execute_result"
    }
   ],
   "source": [
    "model"
   ]
  },
  {
   "cell_type": "code",
   "execution_count": 8,
   "metadata": {},
   "outputs": [
    {
     "name": "stderr",
     "output_type": "stream",
     "text": [
      "Auto-assigning NUTS sampler...\n",
      "Initializing NUTS using jitter+adapt_diag...\n",
      "Sequential sampling (2 chains in 1 job)\n",
      "NUTS: [B_missing, sigma_B, nu, bM, bA, a, sigma]\n",
      "Sampling chain 0, 0 divergences: 100%|██████████| 2000/2000 [00:14<00:00, 137.24it/s]\n",
      "Sampling chain 1, 0 divergences: 100%|██████████| 2000/2000 [00:12<00:00, 162.89it/s]\n",
      "100%|██████████| 2000/2000 [00:08<00:00, 248.09it/s]\n"
     ]
    }
   ],
   "source": [
    "with model:\n",
    "    trace = pm.sample(1000, tune=1000)\n",
    "    # prior = pm.sample_prior_predictive(1000)\n",
    "    posterior_predictive = pm.sample_posterior_predictive(trace, var_names=[\"K\"])\n",
    "    # pm_data = az.from_pymc3(\n",
    "    #    trace=trace, prior=prior, posterior_predictive=posterior_predictive\n",
    "    # )\n",
    "    pm_data = az.from_pymc3(trace=trace, posterior_predictive=posterior_predictive)"
   ]
  },
  {
   "cell_type": "code",
   "execution_count": 9,
   "metadata": {},
   "outputs": [
    {
     "data": {
      "text/html": [
       "<div>\n",
       "<style scoped>\n",
       "    .dataframe tbody tr th:only-of-type {\n",
       "        vertical-align: middle;\n",
       "    }\n",
       "\n",
       "    .dataframe tbody tr th {\n",
       "        vertical-align: top;\n",
       "    }\n",
       "\n",
       "    .dataframe thead th {\n",
       "        text-align: right;\n",
       "    }\n",
       "</style>\n",
       "<table border=\"1\" class=\"dataframe\">\n",
       "  <thead>\n",
       "    <tr style=\"text-align: right;\">\n",
       "      <th></th>\n",
       "      <th>mean</th>\n",
       "      <th>sd</th>\n",
       "      <th>hdi_3%</th>\n",
       "      <th>hdi_97%</th>\n",
       "      <th>mcse_mean</th>\n",
       "      <th>mcse_sd</th>\n",
       "      <th>ess_mean</th>\n",
       "      <th>ess_sd</th>\n",
       "      <th>ess_bulk</th>\n",
       "      <th>ess_tail</th>\n",
       "      <th>r_hat</th>\n",
       "    </tr>\n",
       "  </thead>\n",
       "  <tbody>\n",
       "    <tr>\n",
       "      <th>B_missing[0]</th>\n",
       "      <td>-0.517</td>\n",
       "      <td>0.896</td>\n",
       "      <td>-2.071</td>\n",
       "      <td>1.302</td>\n",
       "      <td>0.018</td>\n",
       "      <td>0.019</td>\n",
       "      <td>2468.0</td>\n",
       "      <td>1132.0</td>\n",
       "      <td>2481.0</td>\n",
       "      <td>1494.0</td>\n",
       "      <td>1.0</td>\n",
       "    </tr>\n",
       "    <tr>\n",
       "      <th>B_missing[1]</th>\n",
       "      <td>-0.642</td>\n",
       "      <td>0.878</td>\n",
       "      <td>-2.250</td>\n",
       "      <td>0.989</td>\n",
       "      <td>0.017</td>\n",
       "      <td>0.015</td>\n",
       "      <td>2574.0</td>\n",
       "      <td>1818.0</td>\n",
       "      <td>2604.0</td>\n",
       "      <td>1766.0</td>\n",
       "      <td>1.0</td>\n",
       "    </tr>\n",
       "    <tr>\n",
       "      <th>B_missing[2]</th>\n",
       "      <td>-0.633</td>\n",
       "      <td>0.926</td>\n",
       "      <td>-2.398</td>\n",
       "      <td>1.107</td>\n",
       "      <td>0.022</td>\n",
       "      <td>0.017</td>\n",
       "      <td>1815.0</td>\n",
       "      <td>1459.0</td>\n",
       "      <td>1863.0</td>\n",
       "      <td>1346.0</td>\n",
       "      <td>1.0</td>\n",
       "    </tr>\n",
       "    <tr>\n",
       "      <th>B_missing[3]</th>\n",
       "      <td>-0.251</td>\n",
       "      <td>0.835</td>\n",
       "      <td>-1.680</td>\n",
       "      <td>1.424</td>\n",
       "      <td>0.016</td>\n",
       "      <td>0.019</td>\n",
       "      <td>2869.0</td>\n",
       "      <td>967.0</td>\n",
       "      <td>2896.0</td>\n",
       "      <td>1332.0</td>\n",
       "      <td>1.0</td>\n",
       "    </tr>\n",
       "    <tr>\n",
       "      <th>B_missing[4]</th>\n",
       "      <td>0.432</td>\n",
       "      <td>0.847</td>\n",
       "      <td>-1.218</td>\n",
       "      <td>1.978</td>\n",
       "      <td>0.016</td>\n",
       "      <td>0.017</td>\n",
       "      <td>2703.0</td>\n",
       "      <td>1215.0</td>\n",
       "      <td>2720.0</td>\n",
       "      <td>1460.0</td>\n",
       "      <td>1.0</td>\n",
       "    </tr>\n",
       "    <tr>\n",
       "      <th>B_missing[5]</th>\n",
       "      <td>-0.143</td>\n",
       "      <td>0.869</td>\n",
       "      <td>-1.828</td>\n",
       "      <td>1.501</td>\n",
       "      <td>0.015</td>\n",
       "      <td>0.021</td>\n",
       "      <td>3260.0</td>\n",
       "      <td>863.0</td>\n",
       "      <td>3241.0</td>\n",
       "      <td>1506.0</td>\n",
       "      <td>1.0</td>\n",
       "    </tr>\n",
       "    <tr>\n",
       "      <th>B_missing[6]</th>\n",
       "      <td>0.180</td>\n",
       "      <td>0.833</td>\n",
       "      <td>-1.416</td>\n",
       "      <td>1.684</td>\n",
       "      <td>0.016</td>\n",
       "      <td>0.019</td>\n",
       "      <td>2615.0</td>\n",
       "      <td>1004.0</td>\n",
       "      <td>2607.0</td>\n",
       "      <td>1551.0</td>\n",
       "      <td>1.0</td>\n",
       "    </tr>\n",
       "    <tr>\n",
       "      <th>B_missing[7]</th>\n",
       "      <td>0.233</td>\n",
       "      <td>0.841</td>\n",
       "      <td>-1.309</td>\n",
       "      <td>1.892</td>\n",
       "      <td>0.015</td>\n",
       "      <td>0.018</td>\n",
       "      <td>3090.0</td>\n",
       "      <td>1069.0</td>\n",
       "      <td>3090.0</td>\n",
       "      <td>1504.0</td>\n",
       "      <td>1.0</td>\n",
       "    </tr>\n",
       "    <tr>\n",
       "      <th>B_missing[8]</th>\n",
       "      <td>0.484</td>\n",
       "      <td>0.848</td>\n",
       "      <td>-1.144</td>\n",
       "      <td>2.033</td>\n",
       "      <td>0.019</td>\n",
       "      <td>0.016</td>\n",
       "      <td>2060.0</td>\n",
       "      <td>1420.0</td>\n",
       "      <td>2074.0</td>\n",
       "      <td>1640.0</td>\n",
       "      <td>1.0</td>\n",
       "    </tr>\n",
       "    <tr>\n",
       "      <th>B_missing[9]</th>\n",
       "      <td>-0.405</td>\n",
       "      <td>0.866</td>\n",
       "      <td>-2.020</td>\n",
       "      <td>1.221</td>\n",
       "      <td>0.017</td>\n",
       "      <td>0.018</td>\n",
       "      <td>2615.0</td>\n",
       "      <td>1116.0</td>\n",
       "      <td>2622.0</td>\n",
       "      <td>1177.0</td>\n",
       "      <td>1.0</td>\n",
       "    </tr>\n",
       "    <tr>\n",
       "      <th>B_missing[10]</th>\n",
       "      <td>-0.249</td>\n",
       "      <td>0.857</td>\n",
       "      <td>-1.852</td>\n",
       "      <td>1.310</td>\n",
       "      <td>0.016</td>\n",
       "      <td>0.018</td>\n",
       "      <td>2994.0</td>\n",
       "      <td>1110.0</td>\n",
       "      <td>3015.0</td>\n",
       "      <td>1437.0</td>\n",
       "      <td>1.0</td>\n",
       "    </tr>\n",
       "    <tr>\n",
       "      <th>B_missing[11]</th>\n",
       "      <td>0.133</td>\n",
       "      <td>0.858</td>\n",
       "      <td>-1.338</td>\n",
       "      <td>1.829</td>\n",
       "      <td>0.017</td>\n",
       "      <td>0.021</td>\n",
       "      <td>2492.0</td>\n",
       "      <td>850.0</td>\n",
       "      <td>2541.0</td>\n",
       "      <td>1072.0</td>\n",
       "      <td>1.0</td>\n",
       "    </tr>\n",
       "  </tbody>\n",
       "</table>\n",
       "</div>"
      ],
      "text/plain": [
       "                mean     sd  hdi_3%  hdi_97%  mcse_mean  mcse_sd  ess_mean  \\\n",
       "B_missing[0]  -0.517  0.896  -2.071    1.302      0.018    0.019    2468.0   \n",
       "B_missing[1]  -0.642  0.878  -2.250    0.989      0.017    0.015    2574.0   \n",
       "B_missing[2]  -0.633  0.926  -2.398    1.107      0.022    0.017    1815.0   \n",
       "B_missing[3]  -0.251  0.835  -1.680    1.424      0.016    0.019    2869.0   \n",
       "B_missing[4]   0.432  0.847  -1.218    1.978      0.016    0.017    2703.0   \n",
       "B_missing[5]  -0.143  0.869  -1.828    1.501      0.015    0.021    3260.0   \n",
       "B_missing[6]   0.180  0.833  -1.416    1.684      0.016    0.019    2615.0   \n",
       "B_missing[7]   0.233  0.841  -1.309    1.892      0.015    0.018    3090.0   \n",
       "B_missing[8]   0.484  0.848  -1.144    2.033      0.019    0.016    2060.0   \n",
       "B_missing[9]  -0.405  0.866  -2.020    1.221      0.017    0.018    2615.0   \n",
       "B_missing[10] -0.249  0.857  -1.852    1.310      0.016    0.018    2994.0   \n",
       "B_missing[11]  0.133  0.858  -1.338    1.829      0.017    0.021    2492.0   \n",
       "\n",
       "               ess_sd  ess_bulk  ess_tail  r_hat  \n",
       "B_missing[0]   1132.0    2481.0    1494.0    1.0  \n",
       "B_missing[1]   1818.0    2604.0    1766.0    1.0  \n",
       "B_missing[2]   1459.0    1863.0    1346.0    1.0  \n",
       "B_missing[3]    967.0    2896.0    1332.0    1.0  \n",
       "B_missing[4]   1215.0    2720.0    1460.0    1.0  \n",
       "B_missing[5]    863.0    3241.0    1506.0    1.0  \n",
       "B_missing[6]   1004.0    2607.0    1551.0    1.0  \n",
       "B_missing[7]   1069.0    3090.0    1504.0    1.0  \n",
       "B_missing[8]   1420.0    2074.0    1640.0    1.0  \n",
       "B_missing[9]   1116.0    2622.0    1177.0    1.0  \n",
       "B_missing[10]  1110.0    3015.0    1437.0    1.0  \n",
       "B_missing[11]   850.0    2541.0    1072.0    1.0  "
      ]
     },
     "execution_count": 9,
     "metadata": {},
     "output_type": "execute_result"
    }
   ],
   "source": [
    "az.summary(pm_data.posterior[\"B_missing\"])"
   ]
  },
  {
   "cell_type": "markdown",
   "metadata": {},
   "source": [
    "```\n",
    "B_impute[1] -0.56 0.91 -1.95 0.95 2602 1  \n",
    "B_impute[2] -0.69 0.91 -2.10 0.79 2025 1  \n",
    "B_impute[3] -0.68 0.94 -2.10 0.84 2086 1  \n",
    "B_impute[4] -0.25 0.87 -1.61 1.15 3091 1  \n",
    "B_impute[5] 0.48 0.85 -0.93 1.82 2532 1  \n",
    "B_impute[6] -0.16 0.85 -1.50 1.16 2626 1  \n",
    "B_impute[7] 0.19 0.85 -1.08 1.58 2640 1  \n",
    "B_impute[8] 0.28 0.86 -1.06 1.62 3697 1  \n",
    "B_impute[9] 0.52 0.87 -0.93 1.84 2574 1  \n",
    "B_impute[10] -0.46 0.89 -1.87 0.93 2092 1  \n",
    "B_impute[11] -0.27 0.86 -1.61 1.09 2650 1  \n",
    "B_impute[12] 0.17 0.85 -1.21 1.49 2749\n",
    "```\n",
    "\n",
    "McElreath, Richard. Statistical Rethinking (Chapman & Hall/CRC Texts in Statistical Science) (p. 507). CRC Press. Kindle Edition. "
   ]
  },
  {
   "cell_type": "code",
   "execution_count": 10,
   "metadata": {},
   "outputs": [
    {
     "name": "stderr",
     "output_type": "stream",
     "text": [
      "/home/worker/.local/share/virtualenvs/worker-Q7nhheP5/lib/python3.7/site-packages/arviz/stats/stats.py:338: UserWarning: hpd will be deprecated Please replace hdi\n",
      "  warnings.warn((\"hpd will be deprecated \" \"Please replace hdi\"),)\n"
     ]
    }
   ],
   "source": [
    "err = pm.hpd(pm_data.posterior[\"B_missing\"].values)"
   ]
  },
  {
   "cell_type": "code",
   "execution_count": 11,
   "metadata": {},
   "outputs": [
    {
     "name": "stderr",
     "output_type": "stream",
     "text": [
      "/home/worker/.local/share/virtualenvs/worker-Q7nhheP5/lib/python3.7/site-packages/arviz/data/base.py:146: UserWarning: More chains (2000) than draws (17). Passed array should have shape (chains, draws, *shape)\n",
      "  UserWarning,\n",
      "/home/worker/.local/share/virtualenvs/worker-Q7nhheP5/lib/python3.7/site-packages/arviz/data/base.py:146: UserWarning: More chains (2000) than draws (29). Passed array should have shape (chains, draws, *shape)\n",
      "  UserWarning,\n"
     ]
    },
    {
     "data": {
      "image/png": "[encoded data removed]",
      "text/plain": [
       "<Figure size 720x288 with 3 Axes>"
      ]
     },
     "metadata": {
      "needs_background": "light"
     },
     "output_type": "display_data"
    }
   ],
   "source": [
    "plt.figure(figsize=(10, 4))\n",
    "plt.subplot(1, 3, 1)\n",
    "y_hat = pm_data.posterior_predictive[\"K\"].values.reshape(-1, 29).mean(axis=0)\n",
    "m = ~np.isnan(milk_data_[\"neocortex_prop_z\"])\n",
    "az.plot_hpd(\n",
    "    milk_data_[\"neocortex_prop_z\"][m], pm_data.posterior_predictive[\"K\"].values[:, :, m]\n",
    ")\n",
    "plt.plot(milk_data_[\"neocortex_prop_z\"], milk_data_[\"kkals_z\"], \"o\")\n",
    "plt.plot(milk_data_[\"neocortex_prop_z\"], y_hat, \"x\", color=\"k\")\n",
    "\n",
    "plt.plot(err.T, np.vstack((y_hat[~m], y_hat[~m])), color=\"b\")\n",
    "plt.gca().set_xlabel(\"neocortex_prop_z\")\n",
    "plt.gca().set_ylabel(\"kkals_z\")\n",
    "\n",
    "plt.subplot(1, 3, 2)\n",
    "m = ~np.isnan(milk_data_[\"neocortex_prop_z\"])\n",
    "plt.plot(milk_data_[\"neocortex_prop_z\"], milk_data_[\"log_mass_z\"], \"o\")\n",
    "# plt.plot(milk_data_[\"neocortex_prop_z\"], y_hat, \"x\", color=\"k\")\n",
    "plt.plot(\n",
    "    err.T,\n",
    "    np.vstack((milk_data_[\"log_mass_z\"][~m], milk_data_[\"log_mass_z\"][~m])),\n",
    "    color=\"b\",\n",
    ")\n",
    "plt.gca().set_xlabel(\"neocortex_prop_z\")\n",
    "plt.gca().set_ylabel(\"log_mass_z\")\n",
    "\n",
    "plt.subplot(1, 3, 3)\n",
    "az.plot_hpd(milk_data_[\"log_mass_z\"], pm_data.posterior_predictive[\"K\"])\n",
    "plt.plot(milk_data_[\"log_mass_z\"], milk_data_[\"kkals_z\"], \"o\")\n",
    "plt.plot(milk_data_[\"log_mass_z\"], y_hat, \"x\", color=\"k\")\n",
    "plt.gca().set_xlabel(\"log_mass_z\")\n",
    "plt.gca().set_ylabel(\"kkals_z\")\n",
    "\n",
    "plt.tight_layout()"
   ]
  },
  {
   "cell_type": "code",
   "execution_count": 12,
   "metadata": {},
   "outputs": [],
   "source": [
    "# todo: figure out why this isn't working\n",
    "# with model:\n",
    "#    prior = pm.sample_prior_predictive(1000)"
   ]
  },
  {
   "cell_type": "markdown",
   "metadata": {},
   "source": [
    "## Constrain B to be a proportion. "
   ]
  },
  {
   "cell_type": "code",
   "execution_count": 13,
   "metadata": {},
   "outputs": [],
   "source": [
    "# milk_data_ = milk_data_complete\n",
    "milk_data_ = milk_data"
   ]
  },
  {
   "cell_type": "code",
   "execution_count": 14,
   "metadata": {},
   "outputs": [
    {
     "name": "stderr",
     "output_type": "stream",
     "text": [
      "/home/worker/.local/share/virtualenvs/worker-Q7nhheP5/lib/python3.7/site-packages/pymc3/model.py:1430: ImputationWarning: Data in B contains missing values and will be automatically imputed from the sampling distribution.\n",
      "  warnings.warn(impute_message, ImputationWarning)\n"
     ]
    }
   ],
   "source": [
    "# reparameterizations from https://mc-stan.org/docs/2_21/stan-users-guide/reparameterizations.html\n",
    "# and BDA3 chapter 5.\n",
    "with pm.Model() as model2:\n",
    "    sigma = pm.Exponential(\"sigma\", 1)\n",
    "    a = pm.Normal(\"a\", 0, 1)\n",
    "    bB = pm.Normal(\"bA\", 0, 1)\n",
    "    bM = pm.Normal(\"bM\", 0, 1)\n",
    "    phi = pm.Beta(\"phi\", 1, 1) # mean parameter, uniform prior\n",
    "    lamb = pm.Pareto(\"lamb\", 0.1, 1.5) # total count parameter\n",
    "    alpha = lamb * phi \n",
    "    beta = lamb * (1 - phi) \n",
    "    B = pm.Beta(\"B\", alpha=alpha, beta=beta, observed=milk_data_[\"neocortex.prop\"])\n",
    "    K_raw = pm.Normal(\"K_raw\", 0, 1)\n",
    "    mu = pm.Deterministic(\"mu\", a + bM * milk_data_[\"log_mass_z\"] + bB * B)\n",
    "    K = pm.Normal(\"K\", mu, sigma, observed=milk_data_[\"kkals_z\"].values)"
   ]
  },
  {
   "cell_type": "code",
   "execution_count": 15,
   "metadata": {},
   "outputs": [
    {
     "name": "stderr",
     "output_type": "stream",
     "text": [
      "Auto-assigning NUTS sampler...\n",
      "Initializing NUTS using adapt_diag...\n",
      "Sequential sampling (2 chains in 1 job)\n",
      "NUTS: [K_raw, B_missing, lamb, phi, bM, bA, a, sigma]\n",
      "Sampling chain 0, 0 divergences: 100%|██████████| 4000/4000 [00:43<00:00, 91.26it/s] \n",
      "Sampling chain 1, 0 divergences: 100%|██████████| 4000/4000 [00:42<00:00, 93.48it/s] \n",
      "The acceptance probability does not match the target. It is 0.8825707601432282, but should be close to 0.8. Try to increase the number of tuning steps.\n",
      "100%|██████████| 2000/2000 [00:06<00:00, 324.06it/s]\n"
     ]
    }
   ],
   "source": [
    "with model2:\n",
    "    trace = pm.sample(1000, tune=3000, init=\"adapt_diag\")\n",
    "    # prior = pm.sample_prior_predictive(1000)\n",
    "    posterior_predictive = pm.sample_posterior_predictive(trace, var_names=[\"K\"])\n",
    "    # pm_data = az.from_pymc3(\n",
    "    #    trace=trace, prior=prior, posterior_predictive=posterior_predictive\n",
    "    # )\n",
    "    pm_data2 = az.from_pymc3(trace=trace, posterior_predictive=posterior_predictive)"
   ]
  },
  {
   "cell_type": "code",
   "execution_count": 16,
   "metadata": {},
   "outputs": [
    {
     "name": "stderr",
     "output_type": "stream",
     "text": [
      "/home/worker/.local/share/virtualenvs/worker-Q7nhheP5/lib/python3.7/site-packages/arviz/stats/stats.py:338: UserWarning: hpd will be deprecated Please replace hdi\n",
      "  warnings.warn((\"hpd will be deprecated \" \"Please replace hdi\"),)\n",
      "/home/worker/.local/share/virtualenvs/worker-Q7nhheP5/lib/python3.7/site-packages/arviz/data/base.py:146: UserWarning: More chains (2000) than draws (17). Passed array should have shape (chains, draws, *shape)\n",
      "  UserWarning,\n",
      "/home/worker/.local/share/virtualenvs/worker-Q7nhheP5/lib/python3.7/site-packages/arviz/data/base.py:146: UserWarning: More chains (2000) than draws (29). Passed array should have shape (chains, draws, *shape)\n",
      "  UserWarning,\n"
     ]
    },
    {
     "data": {
      "image/png": "[encoded data removed]",
      "text/plain": [
       "<Figure size 720x288 with 3 Axes>"
      ]
     },
     "metadata": {
      "needs_background": "light"
     },
     "output_type": "display_data"
    }
   ],
   "source": [
    "err = pm.hpd(pm_data2.posterior[\"B_missing\"].values)\n",
    "plt.figure(figsize=(10, 4))\n",
    "plt.subplot(1, 3, 1)\n",
    "y_hat = pm_data2.posterior_predictive[\"K\"].values.reshape(-1, 29).mean(axis=0)\n",
    "\n",
    "m = ~np.isnan(milk_data_[\"neocortex.prop\"])\n",
    "az.plot_hpd(\n",
    "    milk_data_[\"neocortex.prop\"][m], pm_data2.posterior_predictive[\"K\"].values[:, :, m]\n",
    ")\n",
    "plt.plot(milk_data_[\"neocortex.prop\"], milk_data_[\"kkals_z\"], \"o\")\n",
    "plt.plot(milk_data_[\"neocortex.prop\"], y_hat, \"x\", color=\"k\")\n",
    "\n",
    "plt.plot(err.T, np.vstack((y_hat[~m], y_hat[~m])), color=\"b\")\n",
    "plt.gca().set_xlabel(\"neocortex.prop\")\n",
    "plt.gca().set_ylabel(\"kkals_z\")\n",
    "\n",
    "plt.subplot(1, 3, 2)\n",
    "m = ~np.isnan(milk_data_[\"neocortex.prop\"])\n",
    "plt.plot(milk_data_[\"neocortex.prop\"], milk_data_[\"log_mass_z\"], \"o\")\n",
    "# plt.plot(milk_data_[\"neocortex_prop_z\"], y_hat, \"x\", color=\"k\")\n",
    "plt.plot(\n",
    "    err.T,\n",
    "    np.vstack((milk_data_[\"log_mass_z\"][~m], milk_data_[\"log_mass_z\"][~m])),\n",
    "    color=\"b\",\n",
    ")\n",
    "plt.gca().set_xlabel(\"neocortex.prop\")\n",
    "plt.gca().set_ylabel(\"log_mass_z\")\n",
    "\n",
    "plt.subplot(1, 3, 3)\n",
    "az.plot_hpd(milk_data_[\"log_mass_z\"], pm_data2.posterior_predictive[\"K\"])\n",
    "plt.plot(milk_data_[\"log_mass_z\"], milk_data_[\"kkals_z\"], \"o\")\n",
    "plt.plot(milk_data_[\"log_mass_z\"], y_hat, \"x\", color=\"k\")\n",
    "plt.gca().set_xlabel(\"log_mass_z\")\n",
    "plt.gca().set_ylabel(\"kkals_z\")\n",
    "\n",
    "plt.tight_layout()"
   ]
  }
 ],
 "metadata": {
  "kernelspec": {
   "display_name": "Python 3",
   "language": "python",
   "name": "python3"
  },
  "language_info": {
   "codemirror_mode": {
    "name": "ipython",
    "version": 3
   },
   "file_extension": ".py",
   "mimetype": "text/x-python",
   "name": "python",
   "nbconvert_exporter": "python",
   "pygments_lexer": "ipython3",
   "version": "3.7.7"
  }
 },
 "nbformat": 4,
 "nbformat_minor": 4
}
