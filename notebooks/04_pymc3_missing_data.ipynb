{
 "cells": [
  {
   "cell_type": "code",
   "execution_count": 1,
   "metadata": {},
   "outputs": [
    {
     "name": "stderr",
     "output_type": "stream",
     "text": [
      "WARNING (theano.tensor.blas): Using NumPy C-API based implementation for BLAS functions.\n"
     ]
    }
   ],
   "source": [
    "import arviz as az\n",
    "import matplotlib.pyplot as plt\n",
    "import numpy as np\n",
    "import pandas as pd\n",
    "import pymc3 as pm\n",
    "import theano.tensor as tt\n",
    "import warnings\n",
    "\n",
    "from scipy import stats\n",
    "from scipy.stats import zscore\n",
    "from itertools import product\n",
    "\n",
    "import seaborn as sns"
   ]
  },
  {
   "cell_type": "code",
   "execution_count": 2,
   "metadata": {},
   "outputs": [],
   "source": [
    "_BASE_URL = \"https://raw.githubusercontent.com/rmcelreath/rethinking/master/data\"\n",
    "MILK_DATASET_PATH = f\"{_BASE_URL}/milk.csv\"\n",
    "\n",
    "milk_data = pd.read_csv(MILK_DATASET_PATH, sep=\";\")\n",
    "milk_data[\"log_mass\"] = np.log(milk_data[\"mass\"])\n",
    "milk_data[\"neocortex.prop\"] = milk_data[\"neocortex.perc\"] * 100"
   ]
  },
  {
   "cell_type": "code",
   "execution_count": 3,
   "metadata": {},
   "outputs": [],
   "source": [
    "milk_data[[\"kkals_z\", \"neocortex_prop_z\", \"log_mass_z\"]] = milk_data[\n",
    "    [\"kcal.per.g\", \"neocortex.prop\", \"log_mass\"]\n",
    "].apply(zscore, nan_policy=\"omit\")"
   ]
  },
  {
   "cell_type": "code",
   "execution_count": 4,
   "metadata": {},
   "outputs": [],
   "source": [
    "milk_data_complete = milk_data.dropna()"
   ]
  },
  {
   "cell_type": "code",
   "execution_count": 5,
   "metadata": {},
   "outputs": [],
   "source": [
    "# milk_data_ = milk_data_complete\n",
    "milk_data_ = milk_data"
   ]
  },
  {
   "cell_type": "code",
   "execution_count": 6,
   "metadata": {},
   "outputs": [
    {
     "name": "stderr",
     "output_type": "stream",
     "text": [
      "/home/worker/.local/share/virtualenvs/worker-Q7nhheP5/lib/python3.7/site-packages/pymc3/model.py:1430: ImputationWarning: Data in B contains missing values and will be automatically imputed from the sampling distribution.\n",
      "  warnings.warn(impute_message, ImputationWarning)\n"
     ]
    }
   ],
   "source": [
    "with pm.Model() as model:\n",
    "    sigma = pm.Exponential(\"sigma\", 1)\n",
    "    a = pm.Normal(\"a\", 0, 0.5)\n",
    "    bB = pm.Normal(\"bA\", 0, 0.5)\n",
    "    bM = pm.Normal(\"bM\", 0, 0.5)\n",
    "    nu = pm.Normal(\"nu\", 0, 0.5)\n",
    "    sigma_B = pm.Exponential(\"sigma_B\", 5)\n",
    "    B = pm.Normal(\"B\", nu, sigma_B, observed=milk_data_[\"neocortex_prop_z\"])\n",
    "    mu = pm.Deterministic(\"mu\", a + bM * milk_data_[\"log_mass_z\"] + bB * B)\n",
    "    K = pm.Normal(\"K\", mu, sigma, observed=milk_data_[\"kkals_z\"].values)"
   ]
  },
  {
   "cell_type": "code",
   "execution_count": 7,
   "metadata": {},
   "outputs": [
    {
     "data": {
      "text/latex": [
       "$$\n",
       "            \\begin{array}{rcl}\n",
       "            \\text{a} &\\sim & \\text{Normal}(\\mathit{mu}=0.0,~\\mathit{sigma}=0.5)\\\\\\text{bA} &\\sim & \\text{Normal}(\\mathit{mu}=0.0,~\\mathit{sigma}=0.5)\\\\\\text{bM} &\\sim & \\text{Normal}(\\mathit{mu}=0.0,~\\mathit{sigma}=0.5)\\\\\\text{nu} &\\sim & \\text{Normal}(\\mathit{mu}=0.0,~\\mathit{sigma}=0.5)\\\\\\text{sigma} &\\sim & \\text{Exponential}(\\mathit{lam}=1.0)\\\\\\text{sigma_B} &\\sim & \\text{Exponential}(\\mathit{lam}=5.0)\\\\\\text{mu} &\\sim & \\text{Deterministic}(\\text{a},~\\text{bM},~\\text{Constant},~\\text{bA},~\\text{Constant},~\\text{B_missing},~\\text{Constant})\\\\\\text{B} &\\sim & \\text{Normal}(\\mathit{mu}=\\text{nu},~\\mathit{sigma}=f(\\text{sigma_B}))\\\\\\text{K} &\\sim & \\text{Normal}(\\mathit{mu}=\\text{mu},~\\mathit{sigma}=f(\\text{sigma}))\n",
       "            \\end{array}\n",
       "            $$"
      ],
      "text/plain": [
       "<pymc3.model.Model at 0x7fbe82d39310>"
      ]
     },
     "execution_count": 7,
     "metadata": {},
     "output_type": "execute_result"
    }
   ],
   "source": [
    "model"
   ]
  },
  {
   "cell_type": "code",
   "execution_count": 8,
   "metadata": {},
   "outputs": [
    {
     "name": "stderr",
     "output_type": "stream",
     "text": [
      "Auto-assigning NUTS sampler...\n",
      "Initializing NUTS using jitter+adapt_diag...\n",
      "Sequential sampling (2 chains in 1 job)\n",
      "NUTS: [B_missing, sigma_B, nu, bM, bA, a, sigma]\n",
      "Sampling chain 0, 0 divergences: 100%|██████████| 2000/2000 [00:09<00:00, 215.22it/s]\n",
      "Sampling chain 1, 0 divergences: 100%|██████████| 2000/2000 [00:07<00:00, 268.09it/s]\n",
      "100%|██████████| 2000/2000 [00:07<00:00, 253.69it/s]\n"
     ]
    }
   ],
   "source": [
    "with model:\n",
    "    trace = pm.sample(1000, tune=1000)\n",
    "    # prior = pm.sample_prior_predictive(1000)\n",
    "    posterior_predictive = pm.sample_posterior_predictive(trace)\n",
    "    #pm_data = az.from_pymc3(\n",
    "    #    trace=trace, prior=prior, posterior_predictive=posterior_predictive\n",
    "    #)\n",
    "    pm_data = az.from_pymc3(\n",
    "        trace=trace, posterior_predictive=posterior_predictive\n",
    "    )"
   ]
  },
  {
   "cell_type": "code",
   "execution_count": 9,
   "metadata": {},
   "outputs": [
    {
     "name": "stderr",
     "output_type": "stream",
     "text": [
      "/home/worker/.local/share/virtualenvs/worker-Q7nhheP5/lib/python3.7/site-packages/arviz/data/base.py:146: UserWarning: More chains (2000) than draws (17). Passed array should have shape (chains, draws, *shape)\n",
      "  UserWarning,\n",
      "/home/worker/.local/share/virtualenvs/worker-Q7nhheP5/lib/python3.7/site-packages/arviz/data/base.py:146: UserWarning: More chains (2000) than draws (29). Passed array should have shape (chains, draws, *shape)\n",
      "  UserWarning,\n"
     ]
    },
    {
     "data": {
      "text/plain": [
       "Text(0, 0.5, 'kkals_z')"
      ]
     },
     "execution_count": 9,
     "metadata": {},
     "output_type": "execute_result"
    },
    {
     "data": {
      "image/png": "[encoded data removed]",
      "text/plain": [
       "<Figure size 720x288 with 2 Axes>"
      ]
     },
     "metadata": {
      "needs_background": "light"
     },
     "output_type": "display_data"
    }
   ],
   "source": [
    "plt.figure(figsize=(10, 4))\n",
    "plt.subplot(1, 2, 1)\n",
    "\n",
    "y_hat = pm_data.posterior_predictive[\"K\"].values.reshape(-1, 29).mean(axis=0)\n",
    "m = ~np.isnan(milk_data_[\"neocortex_prop_z\"])\n",
    "az.plot_hpd(\n",
    "    milk_data_[\"neocortex_prop_z\"][m], pm_data.posterior_predictive[\"K\"].values[:, :, m]\n",
    ")\n",
    "plt.plot(milk_data_[\"neocortex_prop_z\"], milk_data_[\"kkals_z\"], \"o\")\n",
    "plt.plot(milk_data_[\"neocortex_prop_z\"], y_hat, \"x\", color=\"k\")\n",
    "plt.gca().set_xlabel(\"neocortex_prop_z\")\n",
    "plt.gca().set_ylabel(\"kkals_z\")\n",
    "plt.subplot(1, 2, 2)\n",
    "az.plot_hpd(milk_data_[\"log_mass_z\"], pm_data.posterior_predictive[\"K\"])\n",
    "plt.plot(milk_data_[\"log_mass_z\"], milk_data_[\"kkals_z\"], \"o\")\n",
    "plt.plot(milk_data_[\"log_mass_z\"], y_hat, \"x\", color=\"k\")\n",
    "plt.gca().set_xlabel(\"log_mass_z\")\n",
    "plt.gca().set_ylabel(\"kkals_z\")"
   ]
  }
 ],
 "metadata": {
  "kernelspec": {
   "display_name": "Python 3",
   "language": "python",
   "name": "python3"
  },
  "language_info": {
   "codemirror_mode": {
    "name": "ipython",
    "version": 3
   },
   "file_extension": ".py",
   "mimetype": "text/x-python",
   "name": "python",
   "nbconvert_exporter": "python",
   "pygments_lexer": "ipython3",
   "version": "3.7.7"
  }
 },
 "nbformat": 4,
 "nbformat_minor": 4
}
